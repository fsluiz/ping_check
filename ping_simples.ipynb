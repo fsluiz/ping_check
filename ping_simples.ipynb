{
 "cells": [
  {
   "cell_type": "code",
   "execution_count": 1,
   "id": "c3069e3c",
   "metadata": {},
   "outputs": [
    {
     "name": "stdout",
     "output_type": "stream",
     "text": [
      "Digite o Ip ou host a ser verificado: 8.8.8.8\n",
      "PING 8.8.8.8 (8.8.8.8) 56(124) bytes of data.\n",
      "\n",
      "--- 8.8.8.8 ping statistics ---\n",
      "251 packets transmitted, 0 received, 100% packet loss, time 255996ms\n",
      "\n"
     ]
    },
    {
     "data": {
      "text/plain": [
       "2"
      ]
     },
     "execution_count": 1,
     "metadata": {},
     "output_type": "execute_result"
    }
   ],
   "source": [
    "import os # Importa o módulo ou bliblioteca os (integra os programas e recuros do Sistema operacional)\n",
    "\n",
    "print('#' * 60) # Imprime # 60 vezes\n",
    "ip_ou_host = input(\"Digite o Ip ou host a ser verificado: \") # Criamos uma váriavel que vai receber do usuario um ip\n",
    "print(\"-\" * 60)# Imprimindo - 60 vezes \n",
    "\n",
    "os.system('ping -n 6 {}'.format(ip_ou_host)) # chamando system da biblioteca os - comando ping -n -numero de pacotes que serão 6 {} "
   ]
  },
  {
   "cell_type": "code",
   "execution_count": null,
   "id": "21a3caaf",
   "metadata": {},
   "outputs": [],
   "source": []
  }
 ],
 "metadata": {
  "kernelspec": {
   "display_name": "Python 3 (ipykernel)",
   "language": "python",
   "name": "python3"
  },
  "language_info": {
   "codemirror_mode": {
    "name": "ipython",
    "version": 3
   },
   "file_extension": ".py",
   "mimetype": "text/x-python",
   "name": "python",
   "nbconvert_exporter": "python",
   "pygments_lexer": "ipython3",
   "version": "3.9.12"
  }
 },
 "nbformat": 4,
 "nbformat_minor": 5
}
